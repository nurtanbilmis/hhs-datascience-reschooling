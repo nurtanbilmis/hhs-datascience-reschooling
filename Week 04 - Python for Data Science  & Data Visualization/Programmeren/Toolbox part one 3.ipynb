{
 "cells": [
  {
   "cell_type": "markdown",
   "metadata": {},
   "source": [
    "# Python toolbox part one 3\n",
    "- Lambda functies\n",
    "- foutafhandeling"
   ]
  },
  {
   "cell_type": "markdown",
   "metadata": {},
   "source": [
    "## 12.1 Lambda basis\n",
    "\n",
    "- De functie in onderstaande cel vermenigvuldigt de x parameter met de y parameter.\n",
    "- Maak een Lambda functie die hetzelfde doet.\n",
    "- Print het resultaat van de lambda functie"
   ]
  },
  {
   "cell_type": "code",
   "execution_count": 2,
   "metadata": {},
   "outputs": [
    {
     "name": "stdout",
     "output_type": "stream",
     "text": [
      "15\n",
      "15\n"
     ]
    }
   ],
   "source": [
    "def mult(x,y):\n",
    "    result = x * y\n",
    "    return result\n",
    "example = mult(3,5)\n",
    "print(example)\n",
    "\n",
    "\n",
    "test = lambda x, y : x * y\n",
    "print(test(3,5))"
   ]
  },
  {
   "cell_type": "markdown",
   "metadata": {},
   "source": [
    "## 12.2 Map() en lambda\n",
    "- De GBP/EUR wisselkoers is 1.2\n",
    "- gbp_amounts is een list met daarin bedragen in GBP (Britse Ponden)\n",
    "- Maak een list waarin je de GBP bedragen omrekent naar EUR waarbij je gebruik maakt van map() en lambda."
   ]
  },
  {
   "cell_type": "code",
   "execution_count": 8,
   "metadata": {},
   "outputs": [
    {
     "data": {
      "text/plain": [
       "[30.0, 60.0, 90.0, 120.0, 150.0]"
      ]
     },
     "execution_count": 8,
     "metadata": {},
     "output_type": "execute_result"
    }
   ],
   "source": [
    "gbp_eur = 1.2\n",
    "gbp_amounts = [25, 50, 75, 100, 125]\n",
    "\n",
    "test2 = list(map(lambda n : n * gbp_eur, gbp_amounts))\n",
    "test2"
   ]
  },
  {
   "cell_type": "markdown",
   "metadata": {},
   "source": [
    "## 12.3 Filter() en lambda \n",
    "- Print een list met daarin alleen de even nummers uit gbp_amounts. Maak darvoor gebruik van filter() en een lambda functie. \n",
    "- Hint: pas de modulo operator toe om te bepalen of het een even getal is."
   ]
  },
  {
   "cell_type": "code",
   "execution_count": 9,
   "metadata": {},
   "outputs": [
    {
     "data": {
      "text/plain": [
       "[50, 100]"
      ]
     },
     "execution_count": 9,
     "metadata": {},
     "output_type": "execute_result"
    }
   ],
   "source": [
    "gbp_amounts = [25, 50, 75, 100, 125]\n",
    "\n",
    "list(filter(lambda n: n%2==0, gbp_amounts))"
   ]
  },
  {
   "cell_type": "markdown",
   "metadata": {},
   "source": [
    "## 12.4 Reduce() en lambda functies\n",
    "- Print de totale som van de bedragen in gbp_amounts. Maak hierbij gebruik van reduce() en een lambda functie."
   ]
  },
  {
   "cell_type": "code",
   "execution_count": 12,
   "metadata": {},
   "outputs": [
    {
     "name": "stdout",
     "output_type": "stream",
     "text": [
      "375\n"
     ]
    }
   ],
   "source": [
    "from functools import reduce\n",
    "gbp_amounts = [25, 50, 75, 100, 125]\n",
    "\n",
    "print(reduce(lambda a, b: a+b, gbp_amounts))\n",
    "\n",
    "\n",
    "# print(\"The maximum element of the list is : \", end=\"\")\n",
    "# print(reduce(lambda a, b: a if a > b else b, gbp_amounts))"
   ]
  },
  {
   "cell_type": "markdown",
   "metadata": {},
   "source": [
    "## 12.5 Foutmeldingen\n",
    "- Voer onderstaande cel uit om het storedata dataframe aan te maken."
   ]
  },
  {
   "cell_type": "code",
   "execution_count": 46,
   "metadata": {},
   "outputs": [
    {
     "name": "stdout",
     "output_type": "stream",
     "text": [
      "['Town', 'Country', 'Manager name', 'Staff', 'Floor Space', 'Window', 'Car park', 'Demographic score', 'Location', '40min population', '30 min population', '20 min population', '10 min population', 'Store age', 'Clearance space', 'Competition number', 'Competition score', 'Turnover', 'Performance']\n"
     ]
    }
   ],
   "source": [
    "#Importing uncleaned storedata into storedata\n",
    "import pandas as pd\n",
    "import numpy as np\n",
    "storedata = pd.read_csv('storedata3.csv', encoding = \"ISO-8859-1\",sep=\",\",index_col=2)\n",
    "storedata.rename(columns={'Profit': 'Turnover'}, inplace=True)\n",
    "\n",
    "print(list(storedata.columns))"
   ]
  },
  {
   "cell_type": "markdown",
   "metadata": {},
   "source": [
    "### 12.5.1 Try en except\n",
    "In onderstaande cel vind je weer de functie waarmee je het aantal unieke waardes in een kolom telt.\n",
    "- Voeg 'try & except' foutafhandeling toe, waarbij de volgende melding wordt geprint als de kolomnaam niet bestaat:\n",
    "\n",
    "\n",
    "Only use column names: ['Town', 'Country', 'Manager name', 'Staff', 'Floor Space', 'Window', 'Car park', 'Demographic score', 'Location', '40min population', '30 min population', '20 min population', '10 min population', 'Store age', 'Clearance space', 'Competition number', 'Competition score', 'Turnover', 'Performance']\n",
    "\n",
    "Hint: in bovenstaande cel vind je hoe je de kolomnamen kunt bepalen.\n"
   ]
  },
  {
   "cell_type": "code",
   "execution_count": 50,
   "metadata": {},
   "outputs": [
    {
     "name": "stdout",
     "output_type": "stream",
     "text": [
      "Only use column names: ['Town', 'Country', 'Manager name', 'Staff', 'Floor Space', 'Window', 'Car park', 'Demographic score', 'Location', '40min population', '30 min population', '20 min population', '10 min population', 'Store age', 'Clearance space', 'Competition number', 'Competition score', 'Turnover', 'Performance']\n"
     ]
    }
   ],
   "source": [
    "def check(df,name) :\n",
    "    try:\n",
    "        col = df[name]\n",
    "        count_values = {}\n",
    "        for value in col:\n",
    "            if value in count_values:\n",
    "                count_values[value] = count_values[value] + 1\n",
    "            else:\n",
    "                count_values[value] = 1\n",
    "        return count_values\n",
    "\n",
    "    except:\n",
    "        print(f\"Only use column names: {list(storedata.columns)}\")\n",
    "           \n",
    "check(storedata,'test')"
   ]
  },
  {
   "cell_type": "code",
   "execution_count": null,
   "metadata": {},
   "outputs": [],
   "source": []
  },
  {
   "cell_type": "markdown",
   "metadata": {},
   "source": [
    "### 12.5.2 Raising an error\n",
    "\n",
    "- Pas de functie opnieuw aan. Wek nu een \"value error\" op (raise an error) als de de gekozen kolomnaam niet bestaat. Zorg ervoor dat de volgende tekst wordt getoond:\n",
    "\n",
    "Only use column names: ['Town', 'Country', 'Manager name', 'Staff', 'Floor Space', 'Window', 'Car park', 'Demographic score', 'Location', '40min population', '30 min population', '20 min population', '10 min population', 'Store age', 'Clearance space', 'Competition number', 'Competition score', 'Turnover', 'Performance']"
   ]
  },
  {
   "cell_type": "code",
   "execution_count": 52,
   "metadata": {},
   "outputs": [
    {
     "ename": "ValueError",
     "evalue": "Only use column names: ['Town', 'Country', 'Manager name', 'Staff', 'Floor Space', 'Window', 'Car park', 'Demographic score', 'Location', '40min population', '30 min population', '20 min population', '10 min population', 'Store age', 'Clearance space', 'Competition number', 'Competition score', 'Turnover', 'Performance']",
     "output_type": "error",
     "traceback": [
      "\u001b[1;31m---------------------------------------------------------------------------\u001b[0m",
      "\u001b[1;31mValueError\u001b[0m                                Traceback (most recent call last)",
      "Input \u001b[1;32mIn [52]\u001b[0m, in \u001b[0;36m<cell line: 14>\u001b[1;34m()\u001b[0m\n\u001b[0;32m     11\u001b[0m             count_values[value] \u001b[38;5;241m=\u001b[39m \u001b[38;5;241m1\u001b[39m\n\u001b[0;32m     12\u001b[0m     \u001b[38;5;28;01mreturn\u001b[39;00m count_values\n\u001b[1;32m---> 14\u001b[0m \u001b[38;5;28mprint\u001b[39m(\u001b[43mcheck\u001b[49m\u001b[43m(\u001b[49m\u001b[43mstoredata\u001b[49m\u001b[43m,\u001b[49m\u001b[38;5;124;43m'\u001b[39;49m\u001b[38;5;124;43mstaff\u001b[39;49m\u001b[38;5;124;43m'\u001b[39;49m\u001b[43m)\u001b[49m)\n",
      "Input \u001b[1;32mIn [52]\u001b[0m, in \u001b[0;36mcheck\u001b[1;34m(df, name)\u001b[0m\n\u001b[0;32m      1\u001b[0m \u001b[38;5;28;01mdef\u001b[39;00m \u001b[38;5;21mcheck\u001b[39m(df, name) :\n\u001b[0;32m      2\u001b[0m     \u001b[38;5;28;01mif\u001b[39;00m name \u001b[38;5;129;01mnot\u001b[39;00m \u001b[38;5;129;01min\u001b[39;00m storedata\u001b[38;5;241m.\u001b[39mcolumns :\n\u001b[1;32m----> 3\u001b[0m         \u001b[38;5;28;01mraise\u001b[39;00m \u001b[38;5;167;01mValueError\u001b[39;00m(\u001b[38;5;124mf\u001b[39m\u001b[38;5;124m\"\u001b[39m\u001b[38;5;124mOnly use column names: \u001b[39m\u001b[38;5;132;01m{\u001b[39;00m\u001b[38;5;28mlist\u001b[39m(storedata\u001b[38;5;241m.\u001b[39mcolumns)\u001b[38;5;132;01m}\u001b[39;00m\u001b[38;5;124m\"\u001b[39m)\n\u001b[0;32m      5\u001b[0m     col \u001b[38;5;241m=\u001b[39m df[name]\n\u001b[0;32m      6\u001b[0m     count_values \u001b[38;5;241m=\u001b[39m {}\n",
      "\u001b[1;31mValueError\u001b[0m: Only use column names: ['Town', 'Country', 'Manager name', 'Staff', 'Floor Space', 'Window', 'Car park', 'Demographic score', 'Location', '40min population', '30 min population', '20 min population', '10 min population', 'Store age', 'Clearance space', 'Competition number', 'Competition score', 'Turnover', 'Performance']"
     ]
    }
   ],
   "source": [
    "def check(df, name) :\n",
    "    if name not in storedata.columns :\n",
    "        raise ValueError(f\"Only use column names: {list(storedata.columns)}\")\n",
    "        \n",
    "    col = df[name]\n",
    "    count_values = {}\n",
    "    for value in col:\n",
    "        if value in count_values.keys() :\n",
    "            count_values[value] = count_values[value] + 1\n",
    "        else:\n",
    "            count_values[value] = 1\n",
    "    return count_values\n",
    "\n",
    "print(check(storedata,'staff'))"
   ]
  },
  {
   "cell_type": "markdown",
   "metadata": {},
   "source": [
    "## 12.6 Integratie\n",
    "\n",
    "- Gebruik filter(lambda) om een list met omzetten uit storedata['Turnover'] te filteren met daarin alleen de bedragen die groter zijn dan 3000000.\n",
    "- Print de list en het aantal elementen in de list"
   ]
  },
  {
   "cell_type": "code",
   "execution_count": 54,
   "metadata": {},
   "outputs": [
    {
     "name": "stdout",
     "output_type": "stream",
     "text": [
      "69\n",
      "[3410865, 4034051, 3058134, 3345936, 3117205, 3153278, 3056804, 3797953, 3138911, 3321899, 3640627, 3075352, 3491993, 3252148, 3041618, 3737466, 4217291, 3516397, 3957233, 4253984, 4185306, 4160531, 3100521, 3246954, 3741911, 4137224, 3572475, 3121837, 4176642, 4300537, 3758014, 3032277, 3625088, 3336417, 3175101, 4587304, 3029751, 3418735, 3197934, 3135133, 3822904, 3524409, 3709026, 3337861, 3260276, 4237135, 3007050, 4018966, 3817558, 4793593, 3192066, 3092180, 3606536, 3304795, 3663843, 3965957, 3487542, 3102538, 3895318, 3741407, 3654694, 3598894, 3444876, 3891535, 3498966, 3501093, 3774401, 3584813, 3485295]\n"
     ]
    }
   ],
   "source": [
    "test5 = list(filter(lambda n: n > 3_000_000, storedata[\"Turnover\"]))\n",
    "\n",
    "print(len(test5))\n",
    "print(test5)"
   ]
  },
  {
   "cell_type": "code",
   "execution_count": null,
   "metadata": {},
   "outputs": [],
   "source": []
  }
 ],
 "metadata": {
  "kernelspec": {
   "display_name": "Python 3 (ipykernel)",
   "language": "python",
   "name": "python3"
  },
  "language_info": {
   "codemirror_mode": {
    "name": "ipython",
    "version": 3
   },
   "file_extension": ".py",
   "mimetype": "text/x-python",
   "name": "python",
   "nbconvert_exporter": "python",
   "pygments_lexer": "ipython3",
   "version": "3.9.12"
  }
 },
 "nbformat": 4,
 "nbformat_minor": 2
}
