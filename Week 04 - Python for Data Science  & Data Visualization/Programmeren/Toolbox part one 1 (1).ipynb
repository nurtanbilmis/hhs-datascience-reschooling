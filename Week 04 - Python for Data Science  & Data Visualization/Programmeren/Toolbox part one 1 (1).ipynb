{
 "cells": [
  {
   "cell_type": "markdown",
   "metadata": {},
   "source": [
    "# Data Science Toolbox (Part 1): 1"
   ]
  },
  {
   "cell_type": "markdown",
   "metadata": {},
   "source": [
    "## 10.1 geen parameters\n",
    "- Definieer een functie zonder parameters die het resultaat van 10 maal 10 'returned'\n",
    "- Print de uitkomst van de functie."
   ]
  },
  {
   "cell_type": "code",
   "execution_count": 1,
   "metadata": {},
   "outputs": [
    {
     "data": {
      "text/plain": [
       "100"
      ]
     },
     "execution_count": 1,
     "metadata": {},
     "output_type": "execute_result"
    }
   ],
   "source": [
    "def tentimesten():\n",
    "    return 10 * 10\n",
    "\n",
    "tentimesten()"
   ]
  },
  {
   "cell_type": "markdown",
   "metadata": {},
   "source": [
    "## 10.2 Eén parameter\n",
    "- Definieer een functie die het resultaat van 10 maal een parameter 'returned'\n",
    "- Print de uitkomst van de functie."
   ]
  },
  {
   "cell_type": "code",
   "execution_count": 2,
   "metadata": {},
   "outputs": [
    {
     "data": {
      "text/plain": [
       "50"
      ]
     },
     "execution_count": 2,
     "metadata": {},
     "output_type": "execute_result"
    }
   ],
   "source": [
    "def tentimesn(n):\n",
    "    return 10 * n\n",
    "\n",
    "tentimesn(5)"
   ]
  },
  {
   "cell_type": "markdown",
   "metadata": {},
   "source": [
    "## 10.3 meerdere parameters\n",
    "- Definieer een functie die het resultaat van een parameter maal een andere parameter 'returned'\n",
    "- Print de uitkomst van de functie."
   ]
  },
  {
   "cell_type": "code",
   "execution_count": 3,
   "metadata": {},
   "outputs": [
    {
     "data": {
      "text/plain": [
       "50"
      ]
     },
     "execution_count": 3,
     "metadata": {},
     "output_type": "execute_result"
    }
   ],
   "source": [
    "def xtimesn(x, n):\n",
    "    return x * n\n",
    "\n",
    "xtimesn(5,10)"
   ]
  },
  {
   "cell_type": "markdown",
   "metadata": {},
   "source": [
    "## 10.3 meerdere parameters & \"returning\" meerdere waardes\n",
    "\n",
    "- Definieer een functie met twee parameters die twee resultaten returned in een tuple:\n",
    "\n",
    "    1. Een parameter vermenigvuldigd met de andere parameter  \n",
    "    2. De som van beide parameters  \n",
    "\n",
    "\n",
    "- Print de uitkomst van de functie. Kies willekeurige waardes voor iedere parameter."
   ]
  },
  {
   "cell_type": "code",
   "execution_count": 6,
   "metadata": {},
   "outputs": [
    {
     "data": {
      "text/plain": [
       "(15, 8)"
      ]
     },
     "execution_count": 6,
     "metadata": {},
     "output_type": "execute_result"
    }
   ],
   "source": [
    "def plussum(x, y):\n",
    "    return x * y, x + y\n",
    "\n",
    "plussum(3, 5)"
   ]
  },
  {
   "cell_type": "markdown",
   "metadata": {},
   "source": [
    "## 10.4 Tuples\n",
    "\n",
    "De functie uit de vorige opgave 'returns' waardes in een tuple.\n",
    "\n",
    "- Pak de tuple uit in 2 verschillende variabelen.\n",
    "- Print beide variabelen."
   ]
  },
  {
   "cell_type": "code",
   "execution_count": 9,
   "metadata": {},
   "outputs": [
    {
     "name": "stdout",
     "output_type": "stream",
     "text": [
      "15 8\n"
     ]
    }
   ],
   "source": [
    "first, second = list((15,8))\n",
    "print(first, second)"
   ]
  },
  {
   "cell_type": "markdown",
   "metadata": {},
   "source": [
    "### 10.5 Inspecteren van data\n",
    "- Voer de onderstaande cel uit om de \"uncleaned\" gegevens over winkelverkopen te importeren in het dataframe storedata.\n",
    "- De omzet van de winkel staat in de \"Turnover\" kolom"
   ]
  },
  {
   "cell_type": "code",
   "execution_count": 24,
   "metadata": {},
   "outputs": [
    {
     "data": {
      "text/html": [
       "<div>\n",
       "<style scoped>\n",
       "    .dataframe tbody tr th:only-of-type {\n",
       "        vertical-align: middle;\n",
       "    }\n",
       "\n",
       "    .dataframe tbody tr th {\n",
       "        vertical-align: top;\n",
       "    }\n",
       "\n",
       "    .dataframe thead th {\n",
       "        text-align: right;\n",
       "    }\n",
       "</style>\n",
       "<table border=\"1\" class=\"dataframe\">\n",
       "  <thead>\n",
       "    <tr style=\"text-align: right;\">\n",
       "      <th></th>\n",
       "      <th>Town</th>\n",
       "      <th>Country</th>\n",
       "      <th>Manager name</th>\n",
       "      <th>Staff</th>\n",
       "      <th>Floor Space</th>\n",
       "      <th>Window</th>\n",
       "      <th>Car park</th>\n",
       "      <th>Demographic score</th>\n",
       "      <th>Location</th>\n",
       "      <th>40min population</th>\n",
       "      <th>30 min population</th>\n",
       "      <th>20 min population</th>\n",
       "      <th>10 min population</th>\n",
       "      <th>Store age</th>\n",
       "      <th>Clearance space</th>\n",
       "      <th>Competition number</th>\n",
       "      <th>Competition score</th>\n",
       "      <th>Turnover</th>\n",
       "      <th>Performance</th>\n",
       "    </tr>\n",
       "    <tr>\n",
       "      <th>Store ID</th>\n",
       "      <th></th>\n",
       "      <th></th>\n",
       "      <th></th>\n",
       "      <th></th>\n",
       "      <th></th>\n",
       "      <th></th>\n",
       "      <th></th>\n",
       "      <th></th>\n",
       "      <th></th>\n",
       "      <th></th>\n",
       "      <th></th>\n",
       "      <th></th>\n",
       "      <th></th>\n",
       "      <th></th>\n",
       "      <th></th>\n",
       "      <th></th>\n",
       "      <th></th>\n",
       "      <th></th>\n",
       "      <th></th>\n",
       "    </tr>\n",
       "  </thead>\n",
       "  <tbody>\n",
       "    <tr>\n",
       "      <th>1437</th>\n",
       "      <td>Swinton (Greater Manchester)</td>\n",
       "      <td>UK</td>\n",
       "      <td>Roger</td>\n",
       "      <td>9</td>\n",
       "      <td>18526</td>\n",
       "      <td>121</td>\n",
       "      <td>Yes</td>\n",
       "      <td>10</td>\n",
       "      <td>Retail Park</td>\n",
       "      <td>1288374</td>\n",
       "      <td>1138224</td>\n",
       "      <td>1006986</td>\n",
       "      <td>1002340</td>\n",
       "      <td>3</td>\n",
       "      <td>238</td>\n",
       "      <td>16</td>\n",
       "      <td>16</td>\n",
       "      <td>3410865</td>\n",
       "      <td>Good</td>\n",
       "    </tr>\n",
       "    <tr>\n",
       "      <th>1544</th>\n",
       "      <td>Stamford</td>\n",
       "      <td>UK</td>\n",
       "      <td>Ella</td>\n",
       "      <td>8</td>\n",
       "      <td>18569</td>\n",
       "      <td>121</td>\n",
       "      <td>Yes</td>\n",
       "      <td>11</td>\n",
       "      <td>Shopping Centre</td>\n",
       "      <td>1086225</td>\n",
       "      <td>1015321</td>\n",
       "      <td>1012182</td>\n",
       "      <td>1008436</td>\n",
       "      <td>4</td>\n",
       "      <td>384</td>\n",
       "      <td>15</td>\n",
       "      <td>19</td>\n",
       "      <td>4034051</td>\n",
       "      <td>Excellent</td>\n",
       "    </tr>\n",
       "    <tr>\n",
       "      <th>2039</th>\n",
       "      <td>Skipton</td>\n",
       "      <td>UK</td>\n",
       "      <td>Valentina</td>\n",
       "      <td>-2</td>\n",
       "      <td>12288</td>\n",
       "      <td>105</td>\n",
       "      <td>No</td>\n",
       "      <td>12</td>\n",
       "      <td>Retail Park</td>\n",
       "      <td>1595638</td>\n",
       "      <td>1281661</td>\n",
       "      <td>1104490</td>\n",
       "      <td>1011395</td>\n",
       "      <td>11</td>\n",
       "      <td>219</td>\n",
       "      <td>13</td>\n",
       "      <td>18</td>\n",
       "      <td>2297810</td>\n",
       "      <td>Poor</td>\n",
       "    </tr>\n",
       "    <tr>\n",
       "      <th>2055</th>\n",
       "      <td>Stratton</td>\n",
       "      <td>UK</td>\n",
       "      <td>Antonia</td>\n",
       "      <td>7</td>\n",
       "      <td>17092</td>\n",
       "      <td>117</td>\n",
       "      <td>No</td>\n",
       "      <td>14</td>\n",
       "      <td>High Street</td>\n",
       "      <td>1179395</td>\n",
       "      <td>1022959</td>\n",
       "      <td>1009496</td>\n",
       "      <td>1002169</td>\n",
       "      <td>5</td>\n",
       "      <td>261</td>\n",
       "      <td>15</td>\n",
       "      <td>12</td>\n",
       "      <td>2398990</td>\n",
       "      <td>Poor</td>\n",
       "    </tr>\n",
       "    <tr>\n",
       "      <th>2141</th>\n",
       "      <td>Shepperton</td>\n",
       "      <td>UK</td>\n",
       "      <td>Gabriel</td>\n",
       "      <td>7</td>\n",
       "      <td>11307</td>\n",
       "      <td>103</td>\n",
       "      <td>No</td>\n",
       "      <td>18</td>\n",
       "      <td>Retail Park</td>\n",
       "      <td>1398558</td>\n",
       "      <td>1085170</td>\n",
       "      <td>1003137</td>\n",
       "      <td>1002513</td>\n",
       "      <td>7</td>\n",
       "      <td>200</td>\n",
       "      <td>19</td>\n",
       "      <td>13</td>\n",
       "      <td>2288235</td>\n",
       "      <td>Poor</td>\n",
       "    </tr>\n",
       "  </tbody>\n",
       "</table>\n",
       "</div>"
      ],
      "text/plain": [
       "                                   Town Country Manager name  Staff  \\\n",
       "Store ID                                                              \n",
       "1437       Swinton (Greater Manchester)      UK        Roger      9   \n",
       "1544                           Stamford      UK         Ella      8   \n",
       "2039                            Skipton      UK    Valentina     -2   \n",
       "2055                           Stratton      UK      Antonia      7   \n",
       "2141                         Shepperton      UK      Gabriel      7   \n",
       "\n",
       "          Floor Space  Window Car park  Demographic score         Location  \\\n",
       "Store ID                                                                     \n",
       "1437            18526     121      Yes                 10      Retail Park   \n",
       "1544            18569     121      Yes                 11  Shopping Centre   \n",
       "2039            12288     105       No                 12      Retail Park   \n",
       "2055            17092     117       No                 14      High Street   \n",
       "2141            11307     103       No                 18      Retail Park   \n",
       "\n",
       "          40min population  30 min population  20 min population  \\\n",
       "Store ID                                                           \n",
       "1437               1288374            1138224            1006986   \n",
       "1544               1086225            1015321            1012182   \n",
       "2039               1595638            1281661            1104490   \n",
       "2055               1179395            1022959            1009496   \n",
       "2141               1398558            1085170            1003137   \n",
       "\n",
       "          10 min population  Store age  Clearance space  Competition number  \\\n",
       "Store ID                                                                      \n",
       "1437                1002340          3              238                  16   \n",
       "1544                1008436          4              384                  15   \n",
       "2039                1011395         11              219                  13   \n",
       "2055                1002169          5              261                  15   \n",
       "2141                1002513          7              200                  19   \n",
       "\n",
       "          Competition score  Turnover Performance  \n",
       "Store ID                                           \n",
       "1437                     16   3410865        Good  \n",
       "1544                     19   4034051   Excellent  \n",
       "2039                     18   2297810        Poor  \n",
       "2055                     12   2398990        Poor  \n",
       "2141                     13   2288235        Poor  "
      ]
     },
     "execution_count": 24,
     "metadata": {},
     "output_type": "execute_result"
    }
   ],
   "source": [
    "#Importing uncleaned storedata into storedata\n",
    "import pandas as pd\n",
    "import numpy as np\n",
    "storedata = pd.read_csv('storedata1.csv', encoding = \"ISO-8859-1\",sep=\",\",index_col=2)\n",
    "storedata.rename(columns={'Profit': 'Turnover'}, inplace=True)\n",
    "storedata.head()"
   ]
  },
  {
   "cell_type": "markdown",
   "metadata": {},
   "source": [
    "- Maak met behulp van een 'for loop' een dictionary die het aantal unieke waardes telt in de 'Staff' (= aantal medewerkers) kolom.\n",
    "\n",
    "Het verwachte resultaat is: {9: 28, 8: 18, -2: 1, 7: 29, 5: 29, 6: 29, 300: 1, 600: 1}.  \n",
    "Uit deze dictionary kun je aflezen dat er 28 winkels zijn die 9 medewerkers hebben."
   ]
  },
  {
   "cell_type": "code",
   "execution_count": 25,
   "metadata": {},
   "outputs": [
    {
     "name": "stdout",
     "output_type": "stream",
     "text": [
      "{9: 28, 8: 18, -2: 1, 7: 29, 5: 29, 6: 29, 300: 1, 600: 1}\n"
     ]
    }
   ],
   "source": [
    "my_dict={} \n",
    "\n",
    "for i in storedata.Staff:\n",
    "    if i in my_dict.keys():\n",
    "        my_dict[i] += 1\n",
    "    else:\n",
    "        my_dict[i] = 1\n",
    "             \n",
    "print(my_dict)\n"
   ]
  },
  {
   "cell_type": "markdown",
   "metadata": {},
   "source": [
    "- Definieer een functie waarmee je bovenstaande dictionary kunt maken voor alle kolommen in een dataframe.\n",
    "- Pas de functie toe op de \"Staff\" kolom en de \"Car park\" kolom om te testen of je functie goed werkt.\n",
    "- Welke problemen / vreemde waardes zie je in deze kolommen?"
   ]
  },
  {
   "cell_type": "code",
   "execution_count": 26,
   "metadata": {},
   "outputs": [
    {
     "data": {
      "text/plain": [
       "{'Yes': 94, 'No': 35, 'Y': 4, 'N': 3}"
      ]
     },
     "execution_count": 26,
     "metadata": {},
     "output_type": "execute_result"
    }
   ],
   "source": [
    "def makedict(col):\n",
    "    my_dict={} \n",
    "\n",
    "    for i in storedata[col]:\n",
    "        if i in my_dict.keys():\n",
    "            my_dict[i] += 1\n",
    "        else:\n",
    "            my_dict[i] = 1\n",
    "             \n",
    "    return my_dict\n",
    "\n",
    "makedict(\"Car park\")\n",
    "\n",
    "# Y en N kan beter veranderd worden naar Yes en No"
   ]
  },
  {
   "cell_type": "markdown",
   "metadata": {},
   "source": [
    "## 10.6 Corrigeren van de data\n",
    "In een eerdere les heb je geleerd hoe je kunt 'loopen' over een dataframe.\n",
    "\n",
    "- Maak gebruik van een loop om de waardes in de 'Staff' kolom aan te passen:\n",
    "    - Alle negatieve waardes worden positief gemaakt\n",
    "    - Alle getallen die groter dan of gelijk aan 100 zijn worden gedeeld door 100\n",
    "- Voer je functie nogmaals uit om te controleren of de kolom juist is aangepast."
   ]
  },
  {
   "cell_type": "code",
   "execution_count": 27,
   "metadata": {},
   "outputs": [
    {
     "data": {
      "text/plain": [
       "{9: 28, 8: 18, 2: 1, 7: 29, 5: 29, 6: 30, 3: 1}"
      ]
     },
     "execution_count": 27,
     "metadata": {},
     "output_type": "execute_result"
    }
   ],
   "source": [
    "for i in storedata[\"Staff\"]:\n",
    "    if i < 0:\n",
    "        storedata[\"Staff\"].replace(i, i*-1, inplace=True)\n",
    "    elif i >= 100:\n",
    "        storedata[\"Staff\"].replace(i, i / 100, inplace=True)\n",
    "    \n",
    "makedict(\"Staff\")"
   ]
  },
  {
   "cell_type": "markdown",
   "metadata": {},
   "source": [
    "- Maak gebruik van een loop om de waardes in de 'Car park' kolom aan te passen:\n",
    "    - 'Y' wordt 'Yes'\n",
    "    - 'N' wordt 'No'\n",
    "- Voer je functie nogmaals uit om te controleren of de kolom juist is aangepast."
   ]
  },
  {
   "cell_type": "code",
   "execution_count": 28,
   "metadata": {},
   "outputs": [
    {
     "data": {
      "text/plain": [
       "{'Yes': 98, 'No': 38}"
      ]
     },
     "execution_count": 28,
     "metadata": {},
     "output_type": "execute_result"
    }
   ],
   "source": [
    "for i in storedata[\"Car park\"]:\n",
    "    if i == \"Y\":\n",
    "        storedata[\"Car park\"].replace(i, \"Yes\", inplace=True)\n",
    "    elif i == \"N\":\n",
    "        storedata[\"Car park\"].replace(i, \"No\", inplace=True)\n",
    "        \n",
    "makedict(\"Car park\")"
   ]
  },
  {
   "cell_type": "code",
   "execution_count": 29,
   "metadata": {},
   "outputs": [],
   "source": [
    "storedata['Stafftest'] = [abs(v) for v in storedata[\"Staff\"]]"
   ]
  },
  {
   "cell_type": "code",
   "execution_count": 30,
   "metadata": {},
   "outputs": [
    {
     "data": {
      "text/html": [
       "<div>\n",
       "<style scoped>\n",
       "    .dataframe tbody tr th:only-of-type {\n",
       "        vertical-align: middle;\n",
       "    }\n",
       "\n",
       "    .dataframe tbody tr th {\n",
       "        vertical-align: top;\n",
       "    }\n",
       "\n",
       "    .dataframe thead th {\n",
       "        text-align: right;\n",
       "    }\n",
       "</style>\n",
       "<table border=\"1\" class=\"dataframe\">\n",
       "  <thead>\n",
       "    <tr style=\"text-align: right;\">\n",
       "      <th></th>\n",
       "      <th>Town</th>\n",
       "      <th>Country</th>\n",
       "      <th>Manager name</th>\n",
       "      <th>Staff</th>\n",
       "      <th>Floor Space</th>\n",
       "      <th>Window</th>\n",
       "      <th>Car park</th>\n",
       "      <th>Demographic score</th>\n",
       "      <th>Location</th>\n",
       "      <th>40min population</th>\n",
       "      <th>30 min population</th>\n",
       "      <th>20 min population</th>\n",
       "      <th>10 min population</th>\n",
       "      <th>Store age</th>\n",
       "      <th>Clearance space</th>\n",
       "      <th>Competition number</th>\n",
       "      <th>Competition score</th>\n",
       "      <th>Turnover</th>\n",
       "      <th>Performance</th>\n",
       "      <th>Stafftest</th>\n",
       "    </tr>\n",
       "    <tr>\n",
       "      <th>Store ID</th>\n",
       "      <th></th>\n",
       "      <th></th>\n",
       "      <th></th>\n",
       "      <th></th>\n",
       "      <th></th>\n",
       "      <th></th>\n",
       "      <th></th>\n",
       "      <th></th>\n",
       "      <th></th>\n",
       "      <th></th>\n",
       "      <th></th>\n",
       "      <th></th>\n",
       "      <th></th>\n",
       "      <th></th>\n",
       "      <th></th>\n",
       "      <th></th>\n",
       "      <th></th>\n",
       "      <th></th>\n",
       "      <th></th>\n",
       "      <th></th>\n",
       "    </tr>\n",
       "  </thead>\n",
       "  <tbody>\n",
       "    <tr>\n",
       "      <th>1437</th>\n",
       "      <td>Swinton (Greater Manchester)</td>\n",
       "      <td>UK</td>\n",
       "      <td>Roger</td>\n",
       "      <td>9</td>\n",
       "      <td>18526</td>\n",
       "      <td>121</td>\n",
       "      <td>Yes</td>\n",
       "      <td>10</td>\n",
       "      <td>Retail Park</td>\n",
       "      <td>1288374</td>\n",
       "      <td>1138224</td>\n",
       "      <td>1006986</td>\n",
       "      <td>1002340</td>\n",
       "      <td>3</td>\n",
       "      <td>238</td>\n",
       "      <td>16</td>\n",
       "      <td>16</td>\n",
       "      <td>3410865</td>\n",
       "      <td>Good</td>\n",
       "      <td>9</td>\n",
       "    </tr>\n",
       "    <tr>\n",
       "      <th>1544</th>\n",
       "      <td>Stamford</td>\n",
       "      <td>UK</td>\n",
       "      <td>Ella</td>\n",
       "      <td>8</td>\n",
       "      <td>18569</td>\n",
       "      <td>121</td>\n",
       "      <td>Yes</td>\n",
       "      <td>11</td>\n",
       "      <td>Shopping Centre</td>\n",
       "      <td>1086225</td>\n",
       "      <td>1015321</td>\n",
       "      <td>1012182</td>\n",
       "      <td>1008436</td>\n",
       "      <td>4</td>\n",
       "      <td>384</td>\n",
       "      <td>15</td>\n",
       "      <td>19</td>\n",
       "      <td>4034051</td>\n",
       "      <td>Excellent</td>\n",
       "      <td>8</td>\n",
       "    </tr>\n",
       "    <tr>\n",
       "      <th>2039</th>\n",
       "      <td>Skipton</td>\n",
       "      <td>UK</td>\n",
       "      <td>Valentina</td>\n",
       "      <td>2</td>\n",
       "      <td>12288</td>\n",
       "      <td>105</td>\n",
       "      <td>No</td>\n",
       "      <td>12</td>\n",
       "      <td>Retail Park</td>\n",
       "      <td>1595638</td>\n",
       "      <td>1281661</td>\n",
       "      <td>1104490</td>\n",
       "      <td>1011395</td>\n",
       "      <td>11</td>\n",
       "      <td>219</td>\n",
       "      <td>13</td>\n",
       "      <td>18</td>\n",
       "      <td>2297810</td>\n",
       "      <td>Poor</td>\n",
       "      <td>2</td>\n",
       "    </tr>\n",
       "    <tr>\n",
       "      <th>2055</th>\n",
       "      <td>Stratton</td>\n",
       "      <td>UK</td>\n",
       "      <td>Antonia</td>\n",
       "      <td>7</td>\n",
       "      <td>17092</td>\n",
       "      <td>117</td>\n",
       "      <td>No</td>\n",
       "      <td>14</td>\n",
       "      <td>High Street</td>\n",
       "      <td>1179395</td>\n",
       "      <td>1022959</td>\n",
       "      <td>1009496</td>\n",
       "      <td>1002169</td>\n",
       "      <td>5</td>\n",
       "      <td>261</td>\n",
       "      <td>15</td>\n",
       "      <td>12</td>\n",
       "      <td>2398990</td>\n",
       "      <td>Poor</td>\n",
       "      <td>7</td>\n",
       "    </tr>\n",
       "    <tr>\n",
       "      <th>2141</th>\n",
       "      <td>Shepperton</td>\n",
       "      <td>UK</td>\n",
       "      <td>Gabriel</td>\n",
       "      <td>7</td>\n",
       "      <td>11307</td>\n",
       "      <td>103</td>\n",
       "      <td>No</td>\n",
       "      <td>18</td>\n",
       "      <td>Retail Park</td>\n",
       "      <td>1398558</td>\n",
       "      <td>1085170</td>\n",
       "      <td>1003137</td>\n",
       "      <td>1002513</td>\n",
       "      <td>7</td>\n",
       "      <td>200</td>\n",
       "      <td>19</td>\n",
       "      <td>13</td>\n",
       "      <td>2288235</td>\n",
       "      <td>Poor</td>\n",
       "      <td>7</td>\n",
       "    </tr>\n",
       "  </tbody>\n",
       "</table>\n",
       "</div>"
      ],
      "text/plain": [
       "                                   Town Country Manager name  Staff  \\\n",
       "Store ID                                                              \n",
       "1437       Swinton (Greater Manchester)      UK        Roger      9   \n",
       "1544                           Stamford      UK         Ella      8   \n",
       "2039                            Skipton      UK    Valentina      2   \n",
       "2055                           Stratton      UK      Antonia      7   \n",
       "2141                         Shepperton      UK      Gabriel      7   \n",
       "\n",
       "          Floor Space  Window Car park  Demographic score         Location  \\\n",
       "Store ID                                                                     \n",
       "1437            18526     121      Yes                 10      Retail Park   \n",
       "1544            18569     121      Yes                 11  Shopping Centre   \n",
       "2039            12288     105       No                 12      Retail Park   \n",
       "2055            17092     117       No                 14      High Street   \n",
       "2141            11307     103       No                 18      Retail Park   \n",
       "\n",
       "          40min population  30 min population  20 min population  \\\n",
       "Store ID                                                           \n",
       "1437               1288374            1138224            1006986   \n",
       "1544               1086225            1015321            1012182   \n",
       "2039               1595638            1281661            1104490   \n",
       "2055               1179395            1022959            1009496   \n",
       "2141               1398558            1085170            1003137   \n",
       "\n",
       "          10 min population  Store age  Clearance space  Competition number  \\\n",
       "Store ID                                                                      \n",
       "1437                1002340          3              238                  16   \n",
       "1544                1008436          4              384                  15   \n",
       "2039                1011395         11              219                  13   \n",
       "2055                1002169          5              261                  15   \n",
       "2141                1002513          7              200                  19   \n",
       "\n",
       "          Competition score  Turnover Performance  Stafftest  \n",
       "Store ID                                                      \n",
       "1437                     16   3410865        Good          9  \n",
       "1544                     19   4034051   Excellent          8  \n",
       "2039                     18   2297810        Poor          2  \n",
       "2055                     12   2398990        Poor          7  \n",
       "2141                     13   2288235        Poor          7  "
      ]
     },
     "execution_count": 30,
     "metadata": {},
     "output_type": "execute_result"
    }
   ],
   "source": [
    "storedata.head()"
   ]
  },
  {
   "cell_type": "code",
   "execution_count": null,
   "metadata": {},
   "outputs": [],
   "source": []
  },
  {
   "cell_type": "code",
   "execution_count": null,
   "metadata": {},
   "outputs": [],
   "source": []
  }
 ],
 "metadata": {
  "kernelspec": {
   "display_name": "Python 3 (ipykernel)",
   "language": "python",
   "name": "python3"
  },
  "language_info": {
   "codemirror_mode": {
    "name": "ipython",
    "version": 3
   },
   "file_extension": ".py",
   "mimetype": "text/x-python",
   "name": "python",
   "nbconvert_exporter": "python",
   "pygments_lexer": "ipython3",
   "version": "3.9.13"
  }
 },
 "nbformat": 4,
 "nbformat_minor": 2
}
