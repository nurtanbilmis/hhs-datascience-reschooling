{
 "cells": [
  {
   "cell_type": "markdown",
   "metadata": {},
   "source": [
    "# Functies en methods"
   ]
  },
  {
   "cell_type": "markdown",
   "metadata": {},
   "source": [
    "## Inleiding\n",
    "\n",
    "In onderstaande opdrachten ga je functies en methods toepassen die je waarschijnlijk nog niet kent. Het maakt onderdeel uit van de opdracht om uit te vinden welke functie of method geschikt is. Zoek hiervoor op het internet. Uitvinden hoe je een probleem kunt oplossen is een belangrijke programmeervaardigheid.\n",
    "\n",
    "Het is overigens ook mogelijk om zelf functies en methods te maken. Dit is iets dat later aan de orde komt."
   ]
  },
  {
   "cell_type": "markdown",
   "metadata": {},
   "source": [
    "## 1. Functies\n",
    "### 1.1 inleiding\n",
    "\n",
    "- Gebruik een functie waarmee je fl_sp omzet naar fl_sp2. Als de ene list wijzigt dan mag de andere NIET veranderen. \n",
    "- Print de lengte (het aantal elementen) van fl_sp2\n",
    "- Wijs 'stamford' uit fl_sp2 toe aan de variabele stamford.\n",
    "- Print het type van stamford.\n",
    "- Wijs 18569 uit fl_sp2 toe aan de variabele fl_sp_stamford.\n",
    "- Verander het type van fl_sp_stamford in float.\n",
    "- Print het type van fl_sp_stamford\n",
    "- Benoem welke functies je hebt toegepast in bovenstaande opdrachten."
   ]
  },
  {
   "cell_type": "code",
   "execution_count": 2,
   "metadata": {
    "scrolled": true
   },
   "outputs": [
    {
     "name": "stdout",
     "output_type": "stream",
     "text": [
      "10\n",
      "<class 'str'>\n",
      "<class 'float'>\n"
     ]
    }
   ],
   "source": [
    "fl_sp = ['swinton', 18526, 'stamford', 18569, 'skipton', 12288, 'stratton', 17092, 'shepperton', 11307]\n",
    "\n",
    "#Start coding here:\n",
    "\n",
    "fl_sp2 = list(fl_sp)\n",
    "print(len(fl_sp2))\n",
    "\n",
    "stamford = fl_sp[2]\n",
    "\n",
    "print(type(stamford))\n",
    "\n",
    "fl_sp_stamford = fl_sp[3]\n",
    "\n",
    "fl_sp_stamford = float(fl_sp_stamford)\n",
    "print(type(fl_sp_stamford))\n",
    "\n",
    "# len(), type(), float()"
   ]
  },
  {
   "cell_type": "markdown",
   "metadata": {},
   "source": [
    "### 1.2 Help functie\n",
    "\n",
    "- Toon de help-informatie van de functie sum.\n",
    "- Pas de sum functie toe op de list sqm en gebruik een 'function argument' (functie parameter) om 1000 bij de uitkomst op te tellen.\n",
    "- Print het resultaat.\n",
    "- Maak een nieuwe list sqm2 waarin de waardes uit sqm in AFLOPENDE volgorde worden gezet. Gebruik de help functie indien nodig. \n",
    "- Print sqm2."
   ]
  },
  {
   "cell_type": "code",
   "execution_count": 17,
   "metadata": {},
   "outputs": [
    {
     "name": "stdout",
     "output_type": "stream",
     "text": [
      "Help on built-in function sum in module builtins:\n",
      "\n",
      "sum(iterable, /, start=0)\n",
      "    Return the sum of a 'start' value (default: 0) plus an iterable of numbers\n",
      "    \n",
      "    When the iterable is empty, return the start value.\n",
      "    This function is intended specifically for use with numeric values and may\n",
      "    reject non-numeric types.\n",
      "\n",
      "78782\n",
      "[18569, 18526, 17092, 12288, 11307]\n"
     ]
    }
   ],
   "source": [
    "sqm = [18526, 18569, 12288, 17092, 11307]\n",
    "\n",
    "# start coding here:\n",
    "help(sum)\n",
    "\n",
    "\n",
    "print(sum(sqm, 1000))\n",
    "\n",
    "sqm2 = sorted(sqm, reverse = True)\n",
    "\n",
    "print(sqm2)\n"
   ]
  },
  {
   "cell_type": "markdown",
   "metadata": {},
   "source": [
    "## 2 Methods\n",
    "\n",
    "### 2.1 String methods\n",
    "\n",
    "- Print 'Barack Obama' (gebruik een method om hoofdletters te maken van de b en de o in first en last)\n",
    "- Print het aantal maal dat de letter a voorkomt in de woorden 'Barack Obama'. Pas hiervoor een method toe."
   ]
  },
  {
   "cell_type": "code",
   "execution_count": 30,
   "metadata": {},
   "outputs": [
    {
     "name": "stdout",
     "output_type": "stream",
     "text": [
      "Barack Obama\n",
      "4\n"
     ]
    }
   ],
   "source": [
    "first = 'barack'\n",
    "last = 'obama'\n",
    "#start coding here:\n",
    "# help(str)\n",
    "\n",
    "full = first.capitalize() + \" \" + last.capitalize()\n",
    "\n",
    "print(full)\n",
    "\n",
    "print(full.count('a'))\n",
    "\n"
   ]
  },
  {
   "cell_type": "markdown",
   "metadata": {},
   "source": [
    "- Leg het verschil uit tussen een functie en een method.\n",
    "- Wat zijn de beperkingen van methods?"
   ]
  },
  {
   "cell_type": "markdown",
   "metadata": {},
   "source": [
    "Antwoord: Methods zijn gekoppeld aan objecten of beter gezegd aan een class, daardoor kunnen alleen gebruikt worden met de bijbehorende class, (string methods bijv.). De functies kunnen we ook zelf creeren en zolang de parameters/argumenten overeen komen kunnen de functies breder gebruikt worden. Ik denk dat wij kunnen zeggen dat alle methods zijn functies die gekoppeld zijn aan een object maar niet alle functies zijn methods. Met deze vergelijking zouden we de methods beperkt in een class noemen maar ik denk dat dit een bewuste beperking is die een beter structuur kan toevoegen als wij in de toekomst object oriented gaan werken.\n"
   ]
  },
  {
   "cell_type": "markdown",
   "metadata": {},
   "source": [
    "### 2.2 List methods \n",
    "\n",
    "De town list bevat een lijst met plaatsnamen. In fl_sp staan in dezelfde volgorde de oppervlaktes van deze winkels.\n",
    "- Gebruik een method om de index van skipton te bepalen. Wijs het resultaat toe aan de variable skipton_index. Print skipton_index.\n",
    "- Gebruik skipton_index om de oppervlakte van de winkel in skipton te bepalen in fl_sp."
   ]
  },
  {
   "cell_type": "code",
   "execution_count": 42,
   "metadata": {},
   "outputs": [
    {
     "name": "stdout",
     "output_type": "stream",
     "text": [
      "2\n",
      "12288\n"
     ]
    }
   ],
   "source": [
    "town = ['swinton', 'stamford', 'skipton', 'stratton', 'shepperton' ]\n",
    "fl_sp = [18526, 18569, 12288, 17092, 11307]\n",
    "\n",
    "#Start coding here:\n",
    "skipton_index = town.index(\"skipton\")\n",
    "print(skipton_index)\n",
    "\n",
    "print(fl_sp[skipton_index])"
   ]
  },
  {
   "cell_type": "markdown",
   "metadata": {},
   "source": [
    "- Gebruik een method om het getal 21000 toe te voegen aan fl_sp. \n",
    "- Kopieer fl_sp naar fl_sp_rev\n",
    "- Keer de volgorde van de getallen in fl_sp_rev om met een method.\n",
    "- Voer de code tenminste twee maal uit. Wat gebeurt er?\n",
    "- De list zou slechts 1 maal het getal 21000 moeten bevatten. Gebruik een method om de overbodige elementen te verwijderen."
   ]
  },
  {
   "cell_type": "code",
   "execution_count": 37,
   "metadata": {},
   "outputs": [
    {
     "name": "stdout",
     "output_type": "stream",
     "text": [
      "[21000, 21000, 11307, 17092, 12288, 18569, 18526]\n",
      "[21000, 11307, 17092, 12288, 18569, 18526]\n"
     ]
    }
   ],
   "source": [
    "fl_sp.append(21000)\n",
    "\n",
    "fl_sp_rev = fl_sp.copy()\n",
    "\n",
    "fl_sp_rev.reverse()\n",
    "\n",
    "print(fl_sp_rev) \n",
    "\n",
    "fl_sp_rev.remove(21000)\n",
    "print(fl_sp_rev) \n"
   ]
  },
  {
   "cell_type": "markdown",
   "metadata": {},
   "source": [
    "- Herschrijf de code uit bovenstaande cel op zodanige wijze dat je de cel oneindig kunt blijven uitvoeren zonder dat je iedere keer een getal moet verwijderen."
   ]
  },
  {
   "cell_type": "code",
   "execution_count": 44,
   "metadata": {},
   "outputs": [
    {
     "name": "stdout",
     "output_type": "stream",
     "text": [
      "[18526, 18569, 12288, 17092, 11307, 21000]\n",
      "[21000, 11307, 17092, 12288, 18569, 18526]\n"
     ]
    }
   ],
   "source": [
    "#Alternative and better way to code since it can run infinitely:\n",
    "\n",
    "# def add_number(x):\n",
    "#     for _ in fl_sp_rev:\n",
    "#         if _ not in fl_sp_rev:\n",
    "#             fl_sp_rev.append(x)\n",
    "#     return fl_sp_rev\n",
    "\n",
    "# add_number(21000)\n",
    "\n",
    "fl_sp2 = fl_sp + [21000]\n",
    "print(fl_sp2)\n",
    "\n",
    "print(fl_sp_rev)"
   ]
  },
  {
   "cell_type": "markdown",
   "metadata": {},
   "source": [
    "### 3 Integratie opdracht\n",
    "\n",
    "De onderstaande lists staan in dezelde volgorde van winkel. \n",
    "- De eigenaar van de winkelketen wil weten welke winkel de kleinste oppervlakte heeft. Gebruik een tenminste 1 functie en 1 method om de plaatsnaam van de winkel met de kleinste oppervlakte te bepalen.\n",
    "- Print deze plaatsnaam."
   ]
  },
  {
   "cell_type": "code",
   "execution_count": 51,
   "metadata": {},
   "outputs": [
    {
     "name": "stdout",
     "output_type": "stream",
     "text": [
      "shepperton\n"
     ]
    }
   ],
   "source": [
    "town = ['swinton', 'stamford', 'skipton', 'stratton', 'shepperton' ]\n",
    "fl_sp = [18526, 18569, 12288, 17092, 11307]\n",
    "#Start coding here:\n",
    "\n",
    "laag = min(fl_sp)\n",
    "\n",
    "smallest_index = fl_sp.index(laag)\n",
    "smallest_index = fl_sp.index(min(fl_sp))\n",
    "\n",
    "print(town[smallest_index])\n",
    "\n",
    "\n",
    "\n",
    "\n",
    "\n"
   ]
  },
  {
   "cell_type": "code",
   "execution_count": null,
   "metadata": {},
   "outputs": [],
   "source": []
  }
 ],
 "metadata": {
  "kernelspec": {
   "display_name": "Python 3 (ipykernel)",
   "language": "python",
   "name": "python3"
  },
  "language_info": {
   "codemirror_mode": {
    "name": "ipython",
    "version": 3
   },
   "file_extension": ".py",
   "mimetype": "text/x-python",
   "name": "python",
   "nbconvert_exporter": "python",
   "pygments_lexer": "ipython3",
   "version": "3.9.13"
  }
 },
 "nbformat": 4,
 "nbformat_minor": 2
}
