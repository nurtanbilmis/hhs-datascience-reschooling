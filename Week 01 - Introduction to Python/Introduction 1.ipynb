{
 "cells": [
  {
   "cell_type": "markdown",
   "metadata": {
    "slideshow": {
     "slide_type": "slide"
    }
   },
   "source": [
    "# Introduction to Python 1"
   ]
  },
  {
   "cell_type": "markdown",
   "metadata": {
    "slideshow": {
     "slide_type": "slide"
    }
   },
   "source": [
    "## 1. Python als rekenmachine\n",
    "\n",
    "### 1.1 Rekenkundige symbolen\n",
    "\n",
    "Toon het resultaat van:\n",
    "- 8 maal 10\n",
    "- 10 tot de derde macht\n",
    "- 300 min 25 maal 10 (controleer of de rekenregels goed worden toegepast)\n",
    "\n",
    "Gebruik de 3 onderstaande cellen voor je oplossingen."
   ]
  },
  {
   "cell_type": "code",
   "execution_count": 1,
   "metadata": {
    "slideshow": {
     "slide_type": "subslide"
    }
   },
   "outputs": [
    {
     "data": {
      "text/plain": [
       "80"
      ]
     },
     "execution_count": 1,
     "metadata": {},
     "output_type": "execute_result"
    }
   ],
   "source": [
    "8 * 10"
   ]
  },
  {
   "cell_type": "code",
   "execution_count": 2,
   "metadata": {
    "slideshow": {
     "slide_type": "subslide"
    }
   },
   "outputs": [
    {
     "data": {
      "text/plain": [
       "1000"
      ]
     },
     "execution_count": 2,
     "metadata": {},
     "output_type": "execute_result"
    }
   ],
   "source": [
    "10 ** 3"
   ]
  },
  {
   "cell_type": "code",
   "execution_count": 3,
   "metadata": {
    "slideshow": {
     "slide_type": "fragment"
    }
   },
   "outputs": [
    {
     "data": {
      "text/plain": [
       "2750"
      ]
     },
     "execution_count": 3,
     "metadata": {},
     "output_type": "execute_result"
    }
   ],
   "source": [
    "(300 - 25) * 10"
   ]
  },
  {
   "cell_type": "markdown",
   "metadata": {},
   "source": [
    "### 1.2 Printen van resultaten\n",
    "\n",
    "Gebruik de print functie om het resultaat van onderstaande berekeningen te tonen in 1 cel:\n",
    "- 8 maal 10\n",
    "- 10 tot de derde macht\n",
    "- 300 min 25 maal 10 (controleer of de rekenregels goed worden toegepast)"
   ]
  },
  {
   "cell_type": "code",
   "execution_count": 5,
   "metadata": {
    "scrolled": true
   },
   "outputs": [],
   "source": [
    "# print(8 * 10, 10 ** 3, (300 - 25) * 10)"
   ]
  },
  {
   "cell_type": "markdown",
   "metadata": {},
   "source": [
    "- Wat gebeurt er als je een hashtag (#) voor 1 van de print statements zet?"
   ]
  },
  {
   "cell_type": "markdown",
   "metadata": {},
   "source": [
    "### 1.3 Rekensymbolen\n",
    "- Vermenigvuldigen: *\n",
    "- Delen: /\n",
    "- Modulo: %\n",
    "- Exponent: **\n",
    "\n",
    "Gebruik de print functie om antwoord te geven op onderstaande vragem:\n",
    "- Hoeveel is 7 modulo 2?\n",
    "- Hoeveel is 9 modulo 3?\n",
    "- Hoeveel 11 modulo 3?"
   ]
  },
  {
   "cell_type": "code",
   "execution_count": 6,
   "metadata": {},
   "outputs": [
    {
     "name": "stdout",
     "output_type": "stream",
     "text": [
      "1\n",
      "0\n",
      "2\n"
     ]
    }
   ],
   "source": [
    "print(7 % 2)\n",
    "print(9 % 3)\n",
    "print(11 % 3)"
   ]
  },
  {
   "cell_type": "markdown",
   "metadata": {},
   "source": [
    "- Leg in onderstaande cel in je eigen woorden uit wat modulo is."
   ]
  },
  {
   "cell_type": "markdown",
   "metadata": {},
   "source": [
    "Jouw antwoord: log(), gives remainder after division\n",
    "\n"
   ]
  },
  {
   "cell_type": "markdown",
   "metadata": {},
   "source": [
    "### 1.4 Financiele rekenkunde\n",
    "\n",
    "Stel je hebt $100 en je kunt dit investeren met een rendement van 10% per jaar. Na 1 jaar heb je dan 100 x 1,1 = 110 dollar. Na 2 jaar is dit 100 x 1,1 x 1,1= 121 dollar.\n",
    "- Print in onderstaande cel hoeveel geld je hebt na 7 jaar."
   ]
  },
  {
   "cell_type": "code",
   "execution_count": 7,
   "metadata": {},
   "outputs": [
    {
     "name": "stdout",
     "output_type": "stream",
     "text": [
      "100 1\n"
     ]
    }
   ],
   "source": [
    "print(100 * 1,1 ** 7)"
   ]
  },
  {
   "cell_type": "markdown",
   "metadata": {},
   "source": [
    "## 2. Variabelen en types\n",
    "### 2.1 Variabelen\n",
    "\n",
    "- Definieer de volgende variabelen en wijs er waarden aan toe:\n",
    "\n",
    "quantity:\n",
    "de verkochte hoeveelheid is 1000.\n",
    "\n",
    "price:\n",
    "de verkoopprijs is 3.65\n",
    "\n",
    "turnover:\n",
    "de omzet is de verkoopprijs maal de hoeveelheid.\n",
    "\n",
    "- Gebruik de variabelen om de omzet te printen."
   ]
  },
  {
   "cell_type": "code",
   "execution_count": 8,
   "metadata": {},
   "outputs": [],
   "source": [
    "quantity = 1000\n",
    "price = 3.65\n",
    "turnover = 100 * 3.65"
   ]
  },
  {
   "cell_type": "markdown",
   "metadata": {},
   "source": [
    "### 2.2 Naamgevingsconventies\n",
    "- Wat zijn de belangrijkste 'conventies' voor namen van variabelen?\n",
    "- Waarom is het belangrijk om je aan de conventies te houden?"
   ]
  },
  {
   "cell_type": "markdown",
   "metadata": {},
   "source": [
    "Antwoord:\n"
   ]
  },
  {
   "cell_type": "markdown",
   "metadata": {},
   "source": [
    "- Voer de code in onderstaande cel uit. Het resultaat is 10 omdat dat het hoogste getal in de reeks is. \n",
    "- Verwijder nu de hashtag voor max = 15 en voer de cel nogmaals uit. Wat gebeurt er?"
   ]
  },
  {
   "cell_type": "code",
   "execution_count": 9,
   "metadata": {},
   "outputs": [
    {
     "ename": "TypeError",
     "evalue": "'int' object is not callable",
     "output_type": "error",
     "traceback": [
      "\u001b[1;31m---------------------------------------------------------------------------\u001b[0m",
      "\u001b[1;31mTypeError\u001b[0m                                 Traceback (most recent call last)",
      "\u001b[1;32m~\\AppData\\Local\\Temp\\ipykernel_15500\\611200342.py\u001b[0m in \u001b[0;36m<module>\u001b[1;34m\u001b[0m\n\u001b[0;32m      1\u001b[0m \u001b[0mmax\u001b[0m \u001b[1;33m=\u001b[0m \u001b[1;36m15\u001b[0m\u001b[1;33m\u001b[0m\u001b[1;33m\u001b[0m\u001b[0m\n\u001b[1;32m----> 2\u001b[1;33m \u001b[0mhighest\u001b[0m \u001b[1;33m=\u001b[0m \u001b[0mmax\u001b[0m\u001b[1;33m(\u001b[0m\u001b[1;33m[\u001b[0m\u001b[1;36m8\u001b[0m\u001b[1;33m,\u001b[0m\u001b[1;36m3\u001b[0m\u001b[1;33m,\u001b[0m\u001b[1;36m10\u001b[0m\u001b[1;33m]\u001b[0m\u001b[1;33m)\u001b[0m\u001b[1;33m\u001b[0m\u001b[1;33m\u001b[0m\u001b[0m\n\u001b[0m\u001b[0;32m      3\u001b[0m \u001b[0mprint\u001b[0m\u001b[1;33m(\u001b[0m\u001b[0mhighest\u001b[0m\u001b[1;33m)\u001b[0m\u001b[1;33m\u001b[0m\u001b[1;33m\u001b[0m\u001b[0m\n",
      "\u001b[1;31mTypeError\u001b[0m: 'int' object is not callable"
     ]
    }
   ],
   "source": [
    "max = 15\n",
    "highest = max([8,3,10])\n",
    "print(highest)"
   ]
  },
  {
   "cell_type": "markdown",
   "metadata": {},
   "source": [
    "- Je moet nu de kernel herstarten om ervoor te zorgen dat max() weer werkt."
   ]
  },
  {
   "cell_type": "markdown",
   "metadata": {},
   "source": [
    "### 2.3 Financiele rekenkunde met variabelen\n",
    "Hierboven deed je de volgende opgave:\n",
    "Stel je hebt $100 en je kunt dit investeren met een rendement van 10% per jaar. Na 1 jaar heb je dan 100 x 1,1 = 110 dollar. Na 2 jaar is dit 100 x 1,1 x 1,1= 121 dollar. Bepaal hoeveel geld je hebt na 7 jaar.\n",
    "\n",
    "- Print het resultaat opnieuw maar maak nu gebruik van de volgende variabelen: savings, multiplier, years and result"
   ]
  },
  {
   "cell_type": "code",
   "execution_count": 10,
   "metadata": {},
   "outputs": [],
   "source": [
    "savings = 100\n",
    "multiplier = 1.1\n",
    "years = 7\n",
    "result = savings * multiplier * years"
   ]
  },
  {
   "cell_type": "markdown",
   "metadata": {},
   "source": [
    "### 2.4 Types\n",
    "- Pas de functie type() toe om te bepalen welke datatype savings, multiplier, years en result hebben.\n",
    "- Print de resultaten."
   ]
  },
  {
   "cell_type": "code",
   "execution_count": 12,
   "metadata": {},
   "outputs": [
    {
     "name": "stdout",
     "output_type": "stream",
     "text": [
      "<class 'int'> <class 'float'> <class 'int'> <class 'float'>\n"
     ]
    }
   ],
   "source": [
    "print(type(savings), type(multiplier), type(years), type(result))"
   ]
  },
  {
   "cell_type": "markdown",
   "metadata": {},
   "source": [
    "- Wat is het verschil tussen integers en floats"
   ]
  },
  {
   "cell_type": "markdown",
   "metadata": {},
   "source": [
    "Antwoord: floats have decimals (real numbers)"
   ]
  },
  {
   "cell_type": "markdown",
   "metadata": {},
   "source": [
    "- Maak variabelen met je naam en je geslacht. Bijvoorbeeld:\n",
    "\n",
    "my_name = \"Erik van den Ham\"  \n",
    "male = True\n",
    "\n",
    "- Print de types van beide variabelen."
   ]
  },
  {
   "cell_type": "code",
   "execution_count": 15,
   "metadata": {},
   "outputs": [
    {
     "name": "stdout",
     "output_type": "stream",
     "text": [
      "<class 'str'>\n",
      "<class 'bool'>\n"
     ]
    }
   ],
   "source": [
    "my_name = \"Nurtan Bilmis\"\n",
    "male = True\n",
    "print(type(my_name))\n",
    "print(type(male))"
   ]
  },
  {
   "cell_type": "markdown",
   "metadata": {},
   "source": [
    "- Leg in onderstaande cel uit wat de volgende types zijn: string, float, integer and Boolean."
   ]
  },
  {
   "cell_type": "markdown",
   "metadata": {},
   "source": [
    "Antwoord: Strings are characters written in \"\" or '', the characters can be iterated like lists.\n",
    "Floats are real numbers with decimal points.\n",
    "Integers are whole numbers without decimal points. //\n",
    "Boolean are True, False values which can be really useful in loops, iterations.\n"
   ]
  },
  {
   "cell_type": "markdown",
   "metadata": {},
   "source": [
    "Soms zijn getallen opgeslagen als strings. De variabele number bevat de string \"123:.\n",
    "- Zet de string om in een integer.\n",
    "- Print het type van number."
   ]
  },
  {
   "cell_type": "code",
   "execution_count": 17,
   "metadata": {},
   "outputs": [
    {
     "name": "stdout",
     "output_type": "stream",
     "text": [
      "<class 'int'>\n"
     ]
    }
   ],
   "source": [
    "number = int(\"123\")\n",
    "print(type(number))"
   ]
  },
  {
   "cell_type": "markdown",
   "metadata": {},
   "source": [
    "### 2.5 Bewerkingen met strings\n",
    "- Zet de variabele number weer om in een string.\n",
    "- Maak de variabele add_number die de optelsom van number plus number bevat.\n",
    "- Print add_number."
   ]
  },
  {
   "cell_type": "code",
   "execution_count": 19,
   "metadata": {},
   "outputs": [
    {
     "name": "stdout",
     "output_type": "stream",
     "text": [
      "123123\n"
     ]
    }
   ],
   "source": [
    "number = str(number)\n",
    "add_number = number * 2\n",
    "print(add_number)"
   ]
  },
  {
   "cell_type": "markdown",
   "metadata": {},
   "source": [
    "Je ziet hier dat de '+ operator' zich anders gedraagt bij een string dan bij een integer of float."
   ]
  },
  {
   "cell_type": "markdown",
   "metadata": {},
   "source": [
    "### 2.6 Printen van combinaties van verschillende data types.\n",
    "\n",
    "Om variabelen met meerdere types te kunnen printen met 1 print functie, zul je alle variabelen moeten omzetten naar een string. \n",
    "Met + kun je vervolgens de variabelen samenvoegen. In opdracht 2.4 heb je de volgende variabelen gemaakt: my_name and male. Deze variabelen hebben een verschillend data type. \n",
    "\n",
    "- Print onderstaande tekst gebruikmakend van beide variabelen. Vervang de naam door jouw naam. \n",
    "\n",
    "My name is Erik van den Ham and I am a man. This is: True"
   ]
  },
  {
   "cell_type": "code",
   "execution_count": 22,
   "metadata": {},
   "outputs": [
    {
     "name": "stdout",
     "output_type": "stream",
     "text": [
      "My name is Nurtan Bilmis and I am a man. This is: True\n"
     ]
    }
   ],
   "source": [
    "# hint: print('My name is \"+ my_name + _______________________ \")\n",
    "print(f\"My name is {my_name} and I am a man. This is: {male}\")\n"
   ]
  },
  {
   "cell_type": "markdown",
   "metadata": {},
   "source": [
    "### 2.7 Integratie opdracht\n",
    "\n",
    "In deze module zullen we vaak een dataset gebruiken waarmee je winkelomzet kunt voorspellen. Voor nu gebruiken we een deel van deze dataset om te oefenen met wat je net hebt geleerd.\n",
    "\n",
    "**Data:**  \n",
    "Roger is the store manager of store number 1 in Swinton that has a floor space of 18526  \n",
    "Ella is the store manager of store number 2 in Stamford that has a floor space of 18569  \n",
    "Valentina is the store manager of store number 3 in Skipton that has a floor space of 12288  \n",
    "\n",
    "Opdracht:\n",
    "- Maak variabelen voor de store managers, plaatsen en winkeloppervlaktes (floor spaces). In totaal gaat het om 9 variabelen.\n",
    "- Maak ook een variabele met daarin het aantal winkels (3).\n",
    "- Maak gebruik van de variabelen om de gemiddelde winkeloppervlakte (floor space) te berekenen. Wijs het resultaat toe aan een variabele.\n",
    "- Print het type van 1 van de store manager variabelen en van 1 van de oppervlakte variabelen.\n",
    "- Print het volgende met behulp van de variabelen: \"Roger is the store manager of the store in Swinton that has a floor space of 18526\"."
   ]
  },
  {
   "cell_type": "code",
   "execution_count": 23,
   "metadata": {},
   "outputs": [
    {
     "name": "stdout",
     "output_type": "stream",
     "text": [
      "<class 'str'>\n",
      "<class 'int'>\n",
      "Roger is the store manager of the store in Swinton that has a floor space of 18526\n"
     ]
    }
   ],
   "source": [
    "# variables:\n",
    "manager_store1, location_store1, area_store1 = \"Roger\", \"Swinton\", 18526\n",
    "manager_store2, location_store2, area_store2 = \"Ella\", \"Stamford\", 18569\n",
    "manager_store3, location_store3, area_store3 = \"Valentina\", \"Skipton\", 12288\n",
    "store_count = 3\n",
    "\n",
    "# data type\n",
    "floor_space_avg = (area_store1 + area_store2 + area_store3) / 3\n",
    "\n",
    "# calculate and print the average floor space:\n",
    "print(type(manager_store1))\n",
    "print(type(area_store1))\n",
    "\n",
    "# Print sentence:\n",
    "print(f\"{manager_store1} is the store manager of the store in {location_store1} that has a floor space of {area_store1}\")"
   ]
  },
  {
   "cell_type": "code",
   "execution_count": null,
   "metadata": {},
   "outputs": [],
   "source": []
  }
 ],
 "metadata": {
  "kernelspec": {
   "display_name": "Python 3 (ipykernel)",
   "language": "python",
   "name": "python3"
  },
  "language_info": {
   "codemirror_mode": {
    "name": "ipython",
    "version": 3
   },
   "file_extension": ".py",
   "mimetype": "text/x-python",
   "name": "python",
   "nbconvert_exporter": "python",
   "pygments_lexer": "ipython3",
   "version": "3.9.13"
  }
 },
 "nbformat": 4,
 "nbformat_minor": 4
}
