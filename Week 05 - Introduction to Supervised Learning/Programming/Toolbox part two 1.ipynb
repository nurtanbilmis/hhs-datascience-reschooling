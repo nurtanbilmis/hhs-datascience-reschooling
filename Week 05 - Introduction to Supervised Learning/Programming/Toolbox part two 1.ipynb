{
 "cells": [
  {
   "cell_type": "markdown",
   "metadata": {
    "slideshow": {
     "slide_type": "-"
    }
   },
   "source": [
    "# Iterators\n",
    "- Voer onderstaande cel uit om de fl_sp list aan te maken."
   ]
  },
  {
   "cell_type": "code",
   "execution_count": 1,
   "metadata": {
    "slideshow": {
     "slide_type": "-"
    }
   },
   "outputs": [],
   "source": [
    "fl_sp = [['swinton', 18526], ['stamford', 18569], ['skipton', 12288], ['stratton', 17092], ['shepperton', 11307]]"
   ]
  },
  {
   "cell_type": "markdown",
   "metadata": {},
   "source": [
    "## 13.1 For loop\n",
    "- Print de 5 lists in de fl_sp list met een for loop."
   ]
  },
  {
   "cell_type": "code",
   "execution_count": null,
   "metadata": {
    "slideshow": {
     "slide_type": "slide"
    }
   },
   "outputs": [],
   "source": []
  },
  {
   "cell_type": "markdown",
   "metadata": {},
   "source": [
    "## 13.2 iter() & next()\n",
    "- Maak de iterator iter_fl_sp van fl_sp\n",
    "- print de 5 lists in de iterator door het toepassen van de next() functie.\n",
    "- Wat gebeurt er als je next() meer dan 5 keer uitvoert?"
   ]
  },
  {
   "cell_type": "code",
   "execution_count": null,
   "metadata": {},
   "outputs": [],
   "source": []
  },
  {
   "cell_type": "markdown",
   "metadata": {},
   "source": [
    "## 13.3 sum() & range()\n",
    "- Print de de som van de getallen 3 tot en met 7 waarbij je de sum() en range() functie toepast.\n",
    "Hint: Je hebt hiervoor maar 1 regel code nodig en het resultaat is 25."
   ]
  },
  {
   "cell_type": "code",
   "execution_count": null,
   "metadata": {},
   "outputs": [],
   "source": []
  },
  {
   "cell_type": "markdown",
   "metadata": {},
   "source": [
    "- Maakt de range() function een normale list?\n",
    "- Wat voor object wordt aangemaakt door de range() functie?\n",
    "- Wat is het voordeel hiervan?"
   ]
  },
  {
   "cell_type": "code",
   "execution_count": null,
   "metadata": {},
   "outputs": [],
   "source": []
  },
  {
   "cell_type": "markdown",
   "metadata": {},
   "source": [
    "## 13.4 Geindexeerde lists\n",
    "- Gebruik town om de list town_ind te maken met daarin 5 tuples met een indexnummer en de plaatsnaam. De index start bij 10.\n",
    "- Loop over loop over town_ind om de index nummers en de plaatsnamen te printen."
   ]
  },
  {
   "cell_type": "code",
   "execution_count": 2,
   "metadata": {},
   "outputs": [],
   "source": [
    "town = ['swinton', 'stamford', 'skipton', 'stratton', 'shepperton']\n"
   ]
  },
  {
   "cell_type": "markdown",
   "metadata": {},
   "source": [
    "## 13.5 Zip\n",
    "- Print een gezipte list fl_sp die bestaat uit tuples met daarin de plaatsnamen uit town en de winkeloppervlaktes uit floor."
   ]
  },
  {
   "cell_type": "code",
   "execution_count": 3,
   "metadata": {},
   "outputs": [],
   "source": [
    "town = ['swinton', 'stamford', 'skipton', 'stratton', 'shepperton']\n",
    "floor = [18526, 18569 , 12288 , 17092, 11307]\n"
   ]
  },
  {
   "cell_type": "markdown",
   "metadata": {},
   "source": [
    "## 13.6 loop & zip\n",
    "- Gebruik een for loop om over fl_sp om het volgende af te drukken:\n",
    "    - de oppervlakte van de winkel in {town} is {floor}."
   ]
  },
  {
   "cell_type": "code",
   "execution_count": null,
   "metadata": {
    "scrolled": true
   },
   "outputs": [],
   "source": [
    "\n"
   ]
  },
  {
   "cell_type": "markdown",
   "metadata": {},
   "source": [
    "- Waarom is het beter om niet eerst een list aan te maken?\n",
    "- Pas de for loop van hierboven aan waarbij je geen list gebruikt."
   ]
  },
  {
   "cell_type": "code",
   "execution_count": null,
   "metadata": {},
   "outputs": [],
   "source": []
  },
  {
   "cell_type": "markdown",
   "metadata": {},
   "source": [
    "- Print de tuples in fl_sp met het * symbool (unpack)."
   ]
  },
  {
   "cell_type": "code",
   "execution_count": null,
   "metadata": {},
   "outputs": [],
   "source": []
  },
  {
   "cell_type": "markdown",
   "metadata": {},
   "source": [
    "## 13.7 Unzipping\n",
    "- Pak sw uit in twee variabelen: r1 en r2.\n",
    "- Print r1 en r2"
   ]
  },
  {
   "cell_type": "code",
   "execution_count": 5,
   "metadata": {},
   "outputs": [],
   "source": [
    "sw = ('swinton', 18526)\n"
   ]
  },
  {
   "cell_type": "markdown",
   "metadata": {},
   "source": [
    "- Gebruik zip() en het * symbool om fl_sp uit te pakken in results1 en results2. Result 1 bevat de plaatsnamen en result 2 bevat de oppervlaktes.\n",
    "- Wat is het verschil tussen town en result 1?"
   ]
  },
  {
   "cell_type": "code",
   "execution_count": null,
   "metadata": {},
   "outputs": [],
   "source": []
  },
  {
   "cell_type": "markdown",
   "metadata": {},
   "source": [
    "## 13.8 Chunking\n",
    "In de volgende cel vind je een functie met 2 parameters:\n",
    "- Met de csv parameter kun je een csv bestand selecteren.\n",
    "- Met de name parameter kun je de kolomnaam selecteren.\n",
    "\n",
    "De functie telt het aantal unieke waardes in de geselecteerde kolom."
   ]
  },
  {
   "cell_type": "code",
   "execution_count": 6,
   "metadata": {},
   "outputs": [
    {
     "name": "stdout",
     "output_type": "stream",
     "text": [
      "{9: 28, 8: 18, -2: 1, 7: 29, 5: 29, 6: 29, 300: 1, 600: 1}\n"
     ]
    }
   ],
   "source": [
    "import pandas as pd\n",
    "def check(csv,name) :\n",
    "    df = pd.read_csv(csv,encoding = \"ISO-8859-1\")\n",
    "    count_values = {}\n",
    "    for value in df[name]:\n",
    "        if value in count_values.keys() :\n",
    "            count_values[value] = count_values[value] + 1\n",
    "        else:\n",
    "            count_values[value] = 1\n",
    "    return count_values\n",
    "column_values = check('storedata.csv','Staff')\n",
    "print(column_values)"
   ]
  },
  {
   "cell_type": "markdown",
   "metadata": {},
   "source": [
    "- Kopieer de inhoud van bovenstaande cel naar onderstaande cel.\n",
    "- Verander de functie zodanig dat je de chunksize als parameter kunt kiezen.\n",
    "- Print het resultaat van de 'Staff' column als je het 'storedata.csv' bestand gebruikt. Pas chunksize=10 toe."
   ]
  },
  {
   "cell_type": "code",
   "execution_count": 38,
   "metadata": {},
   "outputs": [
    {
     "name": "stdout",
     "output_type": "stream",
     "text": [
      "{9: 28, 8: 18, -2: 1, 7: 29, 5: 29, 6: 29, 300: 1, 600: 1}\n"
     ]
    }
   ],
   "source": []
  }
 ],
 "metadata": {
  "kernelspec": {
   "display_name": "Python 3",
   "language": "python",
   "name": "python3"
  },
  "language_info": {
   "codemirror_mode": {
    "name": "ipython",
    "version": 3
   },
   "file_extension": ".py",
   "mimetype": "text/x-python",
   "name": "python",
   "nbconvert_exporter": "python",
   "pygments_lexer": "ipython3",
   "version": "3.8.5"
  }
 },
 "nbformat": 4,
 "nbformat_minor": 2
}
