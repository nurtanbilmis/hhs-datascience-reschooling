{
 "cells": [
  {
   "cell_type": "markdown",
   "metadata": {},
   "source": [
    " # Comprehensions & generators\n",
    " - list comprehensions\n",
    " - list comprehensions inclusief control flow\n",
    " - Dict comprehensions\n",
    " - Generators"
   ]
  },
  {
   "cell_type": "markdown",
   "metadata": {},
   "source": [
    "## 14.1 list comprehensions\n",
    "- Voer onderstaande cel uit om storedata aan te maken"
   ]
  },
  {
   "cell_type": "code",
   "execution_count": 1,
   "metadata": {},
   "outputs": [],
   "source": [
    "import pandas as pd\n",
    "import numpy as np\n",
    "storedata = pd.read_csv('storedata_clean.csv',sep=\";\")\n",
    "storedata.rename(columns={'Profit': 'Turnover'}, inplace=True)"
   ]
  },
  {
   "cell_type": "markdown",
   "metadata": {},
   "source": [
    "- Maak een nieuwe kolom 'to_eur' in storedata met daarin de omzet in EUR. \n",
    "- Pas hiervoor een list comprehension toe om de getallen in de 'Turnover' kolom om te rekenen van GBP naar EUR. Zoek de actuele wisselkoers op, op het internet.\n",
    "- Zorg ervoor dat het integere getallen zijn.  \n",
    "- Controleer of de nieuwe kolom juist is aangemaakt."
   ]
  },
  {
   "cell_type": "code",
   "execution_count": null,
   "metadata": {},
   "outputs": [],
   "source": [
    "\n"
   ]
  },
  {
   "cell_type": "markdown",
   "metadata": {},
   "source": [
    "- Maak een nieuwe kolom 'to_perf' met behulp van een list comprehension.\n",
    "- Zorg ervoor dat in deze kolom het volgende staat:\n",
    "    - 'good' als de omzet in de kolom to_eur hoger is dan 4000000\n",
    "    - 'bad' als de omzet in de kolom to_eur lager dan of gelijk aan 4000000 is."
   ]
  },
  {
   "cell_type": "code",
   "execution_count": null,
   "metadata": {
    "scrolled": false
   },
   "outputs": [],
   "source": []
  },
  {
   "cell_type": "markdown",
   "metadata": {},
   "source": [
    "- Breid bovenstaande list comprehension uit met een extra voorwaarde:\n",
    "   - 'good' als de omzet in de kolom to_eur hoger is dan 4000000\n",
    "   - 'okay' als de omzet in de kolom to_eur hoger is dan 3500000\n",
    "   - 'bad' als de omzet in de kolom to_eur lager dan of gelijk aan 3500000 is.  \n",
    "\n",
    "Hint: in een list comprehension kun je niet gebruik maken van elif, maar wel van de combinatie if en else."
   ]
  },
  {
   "cell_type": "code",
   "execution_count": null,
   "metadata": {},
   "outputs": [],
   "source": []
  },
  {
   "cell_type": "markdown",
   "metadata": {},
   "source": [
    "## 14.2 Dict comprehensions\n",
    "- Pas een dict comprehension toe om de dictionary to_gbp_eur te maken met daarin de GBP omzetten ('Turnover') als 'keys' en de EUR omzetten als 'value'.\n",
    "- Print to_gbp_eur"
   ]
  },
  {
   "cell_type": "code",
   "execution_count": 3,
   "metadata": {},
   "outputs": [],
   "source": [
    "gbp_eur = 1.15\n"
   ]
  },
  {
   "cell_type": "markdown",
   "metadata": {},
   "source": [
    "## 14.3 Generators\n",
    "- Maak een generator object floor_size dat 'big' bevat als de winkeloppervlakte ('Floor Space') groter of gelijk aan 15000 is en 'small' bevat als de winkeloppervlakte lager is dan 15000.\n",
    "- Print het type van floor_size\n",
    "- Print de eerste 3 elementen in floor_size door de next() functie toe te passen.\n",
    "- Print de andere elementen met behulp van een for loop."
   ]
  },
  {
   "cell_type": "code",
   "execution_count": null,
   "metadata": {},
   "outputs": [],
   "source": []
  },
  {
   "cell_type": "markdown",
   "metadata": {},
   "source": [
    "- Waarom zou je een generator gebruiken in plaats van een een list comprehension?"
   ]
  },
  {
   "cell_type": "markdown",
   "metadata": {},
   "source": []
  },
  {
   "cell_type": "markdown",
   "metadata": {},
   "source": [
    "- Definieer de function big_small(col) die een generator object aanmaakt dat hetzelfde is als het generator object dat je hebt gemaakt in de vorige opdracht.\n",
    "- Gebruik een for loop die de elementen uit deze generator print als deze wordt uitgevoerd met de 'Floor Space' kolom als parameter.\n",
    "\n",
    "Extra info over generators:\n",
    "https://www.freecodecamp.org/news/how-and-why-you-should-use-python-generators-f6fb56650888/#:~:text=Generators%20have%20been%20an%20important,%2C%20easy%2C%20and%20clean%20way."
   ]
  },
  {
   "cell_type": "code",
   "execution_count": null,
   "metadata": {},
   "outputs": [],
   "source": []
  },
  {
   "cell_type": "markdown",
   "metadata": {},
   "source": [
    "## 14.4 Comprehensions and pandas dataseries\n",
    "- Maak een nieuwe kolom 'Avg' aan met behulp van een list comprehension:\n",
    "    - 'above average' als het aantal medewerkers ('Staff') hoger is dan of gelijk is aan het gemiddeld aantal medewerkers.\n",
    "    - 'below average' als het aantal medewerkers ('Staff') lager is dan het gemiddeld aantal medewerkers."
   ]
  },
  {
   "cell_type": "code",
   "execution_count": null,
   "metadata": {},
   "outputs": [],
   "source": []
  },
  {
   "cell_type": "markdown",
   "metadata": {},
   "source": [
    "## 14.5 Data laden met een generator\n",
    "\n",
    "In onderstaande cel vind je de code van een oefening uit de datacamp course Python Data Science Toolbox (Part 2): https://campus.datacamp.com/courses/python-data-science-toolbox-part-2/bringing-it-all-together-3?ex=8\n",
    "\n",
    "- Pas deze code aan zodat je op vergelijkbare wijze het bestand 'storedata.csv' kunt inlezen in een generator object.\n",
    "- Hint: Pas de readline() method ook toe voor de while loop zodat je de eerste regel met de kolomkoppen overslaat.\n",
    "- Print de eerste 3 regels van het generator object.\n",
    "\n",
    "Tekst uit datacamp over generators: \n",
    "\n",
    "Generators allow users to lazily evaluate data. This concept of lazy evaluation is useful when you have to deal with very large datasets because it lets you generate values in an efficient manner by yielding only chunks of data at a time instead of the whole thing at once.\n",
    "\n",
    "In this exercise, you will define a generator function read_large_file() that produces a generator object which yields a single line from a file each time next() is called on it. Make sure the csv file 'storedata.csv' is in your current directory.\n",
    "\n",
    "Note that when you open a connection to a file, the resulting file object is already a generator! So out in the wild, you won't have to explicitly create generator objects in cases such as this. However, for pedagogical reasons, we are having you practice how to do this here with the read_large_file() function. Go for it!\n",
    "\n",
    "- Meer info over with/open: https://www.pythonforbeginners.com/files/with-statement-in-python"
   ]
  },
  {
   "cell_type": "code",
   "execution_count": null,
   "metadata": {},
   "outputs": [],
   "source": [
    "#Datacamp code:\n",
    "\n",
    "# Define read_large_file()\n",
    "def read_large_file(file_object):\n",
    "    \"\"\"A generator function to read a large file lazily.\"\"\"\n",
    "\n",
    "    # Loop indefinitely until the end of the file\n",
    "    while True:\n",
    "\n",
    "        # Read a line from the file: data\n",
    "        data = file_object.readline()\n",
    "\n",
    "        # Break if this is the end of the file\n",
    "        if not data:\n",
    "            break\n",
    "\n",
    "        # Yield the line of data\n",
    "        yield data\n",
    "\n",
    "# Open a connection to the file\n",
    "with open('world_dev_ind.csv') as file:\n",
    "\n",
    "    # Create a generator object for the file: gen_file\n",
    "    gen_file = read_large_file(file)\n",
    "\n",
    "    # Print the first three lines of the file\n",
    "    print(next(gen_file))\n",
    "    print(next(gen_file))\n",
    "    print(next(gen_file))"
   ]
  },
  {
   "cell_type": "markdown",
   "metadata": {},
   "source": [
    "- Pas de code uit onderstaande cel aan zodat je een dictionary krijgt met daarin het aantal unieke waardes uit de 'Staff' kolom."
   ]
  },
  {
   "cell_type": "code",
   "execution_count": null,
   "metadata": {},
   "outputs": [],
   "source": [
    "#datacamp code:\n",
    "\n",
    "# Initialize an empty dictionary: counts_dict\n",
    "counts_dict = {}\n",
    "\n",
    "# Open a connection to the file\n",
    "with open('world_dev_ind.csv') as file:\n",
    "\n",
    "    # Iterate over the generator from read_large_file()\n",
    "    for line in read_large_file(file):\n",
    "\n",
    "        row = line.split(',')\n",
    "        first_col = row[0]\n",
    "\n",
    "        if first_col in counts_dict.keys():\n",
    "            counts_dict[first_col] += 1\n",
    "        else:\n",
    "            counts_dict[first_col] = 1\n",
    "\n",
    "# Print            \n",
    "print(counts_dict)"
   ]
  }
 ],
 "metadata": {
  "kernelspec": {
   "display_name": "Python 3",
   "language": "python",
   "name": "python3"
  },
  "language_info": {
   "codemirror_mode": {
    "name": "ipython",
    "version": 3
   },
   "file_extension": ".py",
   "mimetype": "text/x-python",
   "name": "python",
   "nbconvert_exporter": "python",
   "pygments_lexer": "ipython3",
   "version": "3.8.5"
  }
 },
 "nbformat": 4,
 "nbformat_minor": 2
}
